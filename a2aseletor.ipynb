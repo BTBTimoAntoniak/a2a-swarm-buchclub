{
 "cells": [
  {
   "cell_type": "code",
   "execution_count": 1,
   "id": "80ef727b",
   "metadata": {},
   "outputs": [],
   "source": [
    "from typing import List, Sequence\n",
    "import asyncio\n",
    "import nest_asyncio\n",
    "from autogen_agentchat.messages import HandoffMessage\n",
    "from autogen_agentchat.agents import AssistantAgent, UserProxyAgent\n",
    "from autogen_agentchat.conditions import TextMentionTermination\n",
    "from autogen_agentchat.messages import BaseAgentEvent, BaseChatMessage\n",
    "from autogen_agentchat.teams import SelectorGroupChat\n",
    "from autogen_agentchat.ui import Console\n",
    "from autogen_ext.models.openai import OpenAIChatCompletionClient\n",
    "nest_asyncio.apply()"
   ]
  },
  {
   "cell_type": "code",
   "execution_count": 2,
   "id": "1334aeef",
   "metadata": {},
   "outputs": [],
   "source": [
    "import os\n",
    "from dotenv import load_dotenv\n",
    "load_dotenv()\n",
    "\n",
    "model_client = OpenAIChatCompletionClient(\n",
    "    model=\"gpt-4o\",\n",
    "    api_key=os.getenv(\"OPENAI_API_KEY\"),\n",
    ")"
   ]
  },
  {
   "cell_type": "code",
   "execution_count": 3,
   "id": "4c34473f",
   "metadata": {},
   "outputs": [],
   "source": [
    "zuschauer = UserProxyAgent(\"Zuschauer\")\n",
    "\n",
    "redakteur = AssistantAgent(\n",
    "    name=\"Redakteur\",\n",
    "    description=\"An- und Abmoderation, Überleitungen zwischen den Themen\",\n",
    "    system_message = \"\"\"\n",
    "        Du bist Haupt-Moderator einer Tagesschau ählichen Nachrichten-Sendung namens BTB-Schau.\n",
    "        In deinem Team befinden sich Inland- und Ausland-Korrespondennten.\n",
    "        Sprich nur deinen Teil, mach keine Effekte sonder nur deinen Sprech-Teil.\n",
    "        Außerdem gibt es eine Regie, die diese dann Zuschaltet, sobald sie es für richtig hält. Du musst dich nicht darum kümmern.\n",
    "        Du bist vor allem für An- und Abmoderation und für den Austausch mit den Korrespondenten zuständig.\n",
    "    \"\"\",\n",
    "    model_client=model_client,\n",
    ")\n",
    "\n",
    "inland = AssistantAgent(\n",
    "    name=\"Inland\",\n",
    "    description=\"Korrespondent für Inland-Themen.\",\n",
    "    system_message = \"\"\"\n",
    "        Du bist der Inland-Korrespondent einer Tagesschau ähnlichen Sendung.\n",
    "        Du Kommunizierst mit dem Redakteur und wirst nur bei Inland-Themen von der Regie eingeschaltet.\n",
    "        Du kennst diese Themen und wenn nicht überlegst du dir einfach was dazu, es wird nicht gefact-checked.\n",
    "    \"\"\",\n",
    "    model_client=model_client,\n",
    ")\n",
    "\n",
    "ausland = AssistantAgent(\n",
    "    name=\"Ausland\",\n",
    "    description=\"Korrespondent für Ausland-Themen.\",\n",
    "    system_message = \"\"\"\n",
    "        Du bist der Auslands-Korrespondent einer Tagesschau ähnlichen Sendung.\n",
    "        Du Kommunizierst mit dem Redakteur und wirst nur bei Ausland-Themen von der Regie eingeschaltet.\n",
    "        Du kennst diese Themen und wenn nicht überlegst du dir einfach was dazu, es wird nicht gefact-checked.\n",
    "    \"\"\",\n",
    "    model_client=model_client,\n",
    ")"
   ]
  },
  {
   "cell_type": "code",
   "execution_count": 1,
   "id": "26d7bd0e",
   "metadata": {},
   "outputs": [
    {
     "ename": "NameError",
     "evalue": "name 'SelectorGroupChat' is not defined",
     "output_type": "error",
     "traceback": [
      "\u001b[31m---------------------------------------------------------------------------\u001b[39m",
      "\u001b[31mNameError\u001b[39m                                 Traceback (most recent call last)",
      "\u001b[36mCell\u001b[39m\u001b[36m \u001b[39m\u001b[32mIn[1]\u001b[39m\u001b[32m, line 1\u001b[39m\n\u001b[32m----> \u001b[39m\u001b[32m1\u001b[39m groupchat = \u001b[43mSelectorGroupChat\u001b[49m(\n\u001b[32m      2\u001b[39m     participants=[redakteur, inland, ausland],\n\u001b[32m      3\u001b[39m     model_client=model_client,\n\u001b[32m      4\u001b[39m     selector_prompt = \u001b[33m\"\"\"\u001b[39m\n\u001b[32m      5\u001b[39m \u001b[33m        Du bist die Regie der Tagesschau und steuerst, wer reden kann.\u001b[39m\n\u001b[32m      6\u001b[39m \u001b[33m        Der Redakteur macht die An- und Abmoderation und die Übergänge zwischen den Themen.\u001b[39m\n\u001b[32m      7\u001b[39m \u001b[33m        Zu den Themen wird jeweils immer der Auslands- oder der Inland-Korrespondent zugeschaltet.\u001b[39m\n\u001b[32m      8\u001b[39m \n\u001b[32m      9\u001b[39m \u001b[33m        Wähl einen Agenten aus:\u001b[39m\n\u001b[32m     10\u001b[39m \u001b[33m        \u001b[39m\u001b[38;5;132;01m{roles}\u001b[39;00m\n\u001b[32m     11\u001b[39m \n\u001b[32m     12\u001b[39m \u001b[33m        Transkript bis jetzt:\u001b[39m\n\u001b[32m     13\u001b[39m \u001b[33m        \u001b[39m\u001b[38;5;132;01m{history}\u001b[39;00m\n\u001b[32m     14\u001b[39m \n\u001b[32m     15\u001b[39m \u001b[33m    \u001b[39m\u001b[33m\"\"\"\u001b[39m,\n\u001b[32m     16\u001b[39m     termination_condition=TextMentionTermination(\u001b[33m\"\u001b[39m\u001b[33mCUT\u001b[39m\u001b[33m\"\u001b[39m), \n\u001b[32m     17\u001b[39m )\n",
      "\u001b[31mNameError\u001b[39m: name 'SelectorGroupChat' is not defined"
     ]
    }
   ],
   "source": [
    "\n",
    "\n",
    "groupchat = SelectorGroupChat(\n",
    "    participants=[redakteur, inland, ausland],\n",
    "    model_client=model_client,\n",
    "    selector_prompt = \"\"\"\n",
    "        Du bist die Regie der Tagesschau und steuerst, wer reden kann.\n",
    "        Der Redakteur macht die An- und Abmoderation und die Übergänge zwischen den Themen.\n",
    "        Zu den Themen wird jeweils immer der Auslands- oder der Inland-Korrespondent zugeschaltet.\n",
    "\n",
    "        Der Ablauf ist so: Redakteur -> Korrespondent -> Redakteur -> Next Topic\n",
    "\n",
    "        Wähl einen Agenten aus:\n",
    "        {roles}\n",
    "\n",
    "        Transkript bis jetzt:\n",
    "        {history}\n",
    "\n",
    "    \"\"\",\n",
    "    termination_condition=TextMentionTermination(\"CUT\"),\n",
    "    allow_repeated_speaker=True\n",
    ")"
   ]
  },
  {
   "cell_type": "code",
   "execution_count": 2,
   "id": "f7e33dc0",
   "metadata": {},
   "outputs": [
    {
     "ename": "NameError",
     "evalue": "name 'Console' is not defined",
     "output_type": "error",
     "traceback": [
      "\u001b[31m---------------------------------------------------------------------------\u001b[39m",
      "\u001b[31mNameError\u001b[39m                                 Traceback (most recent call last)",
      "\u001b[36mCell\u001b[39m\u001b[36m \u001b[39m\u001b[32mIn[2]\u001b[39m\u001b[32m, line 1\u001b[39m\n\u001b[32m----> \u001b[39m\u001b[32m1\u001b[39m \u001b[38;5;28;01mawait\u001b[39;00m \u001b[43mConsole\u001b[49m(groupchat.run_stream(task=\u001b[33m\"\u001b[39m\u001b[33mStarte eine Episoder der BTB-Schau\u001b[39m\u001b[33m\"\u001b[39m))\n\u001b[32m      3\u001b[39m \u001b[38;5;28;01mawait\u001b[39;00m model_client.close()\n",
      "\u001b[31mNameError\u001b[39m: name 'Console' is not defined"
     ]
    }
   ],
   "source": [
    "\n",
    "await Console(groupchat.run_stream(task=\"Starte eine Episoder der BTB-Schau\"))\n",
    "\n",
    "await model_client.close()"
   ]
  },
  {
   "cell_type": "code",
   "execution_count": null,
   "id": "e0aaaac5",
   "metadata": {},
   "outputs": [],
   "source": []
  }
 ],
 "metadata": {
  "kernelspec": {
   "display_name": "base",
   "language": "python",
   "name": "python3"
  },
  "language_info": {
   "codemirror_mode": {
    "name": "ipython",
    "version": 3
   },
   "file_extension": ".py",
   "mimetype": "text/x-python",
   "name": "python",
   "nbconvert_exporter": "python",
   "pygments_lexer": "ipython3",
   "version": "3.13.2"
  }
 },
 "nbformat": 4,
 "nbformat_minor": 5
}
