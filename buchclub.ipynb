{
 "cells": [
  {
   "cell_type": "code",
   "execution_count": null,
   "metadata": {},
   "outputs": [],
   "source": [
    "%pip install -r requirements.txt"
   ]
  },
  {
   "cell_type": "code",
   "execution_count": null,
   "metadata": {},
   "outputs": [],
   "source": [
    "from typing import Any, Dict, List\n",
    "import os\n",
    "from dotenv import load_dotenv\n",
    "load_dotenv()\n",
    "\n",
    "\n",
    "from autogen_agentchat.agents import AssistantAgent\n",
    "from autogen_agentchat.conditions import HandoffTermination, TextMentionTermination\n",
    "from autogen_agentchat.messages import HandoffMessage\n",
    "from autogen_agentchat.teams import Swarm\n",
    "from autogen_agentchat.ui import Console\n",
    "from autogen_ext.models.openai import OpenAIChatCompletionClient\n",
    "\n",
    "model_client = OpenAIChatCompletionClient(\n",
    "    model=\"gpt-4o\",\n",
    "    api_key=os.getenv(\"OPENAI_API_KEY\"),\n",
    ")"
   ]
  },
  {
   "cell_type": "markdown",
   "metadata": {},
   "source": [
    "### Überblick\n",
    "In diesem Projekt simulieren mehrere KI-Agenäten einen lebendigen Buchclub. Sie diskutieren, welches Buch als nächstes gemeinsam gelesen werden soll. Jeder Agent bringt eigene Perspektiven ein, reagiert auf die Argumente der anderen und beteiligt sich aktiv an der Entscheidungsfindung. Ziel ist es, einen diskursiven, dynamischen Gesprächsverlauf zu ermöglichen – ganz wie unter echten Menschen"
   ]
  },
  {
   "cell_type": "code",
   "execution_count": 41,
   "metadata": {},
   "outputs": [],
   "source": [
    "from random import randrange\n",
    "\n",
    "def suche_bewertung(buchtitel: str):\n",
    "    sterne = randrange(3, 6) #Zw. 3 und 5\n",
    "    return f\"{buchtitel}: {sterne} von 5 Sterne\""
   ]
  },
  {
   "cell_type": "code",
   "execution_count": 42,
   "metadata": {},
   "outputs": [],
   "source": [
    "system_message_template = \"\"\"\n",
    "    Die Abbruchbedingung der Diskussion ist 'FERTIG'.\n",
    "    Schreibt das also nicht nach jeder Nachricht sondern nur,\n",
    "    wenn sich alle auf ein Buch einig sind.\n",
    "    Sollte das Wort davor schon in genau dieser Schreibweise genannt werden,\n",
    "    wird das Gespräch abgebrochen. \n",
    "\"\"\"\n",
    "\n",
    "leser = AssistantAgent(\n",
    "    \"leser\",\n",
    "    model_client=model_client,\n",
    "    handoffs=[\"kritiker\", \"suchender\"],\n",
    "    system_message= system_message_template + \"\"\"\n",
    "        **Rolle:** Inspirator und Empfehler.\n",
    "        **Verhalten:** Bringt einen oder mehrere Buchtitel ins Spiel. Begründet seine Vorschläge mit persönlichen Eindrücken oder Highlights („Ich habe neulich XYZ gelesen, das war spannend, weil ...“).\n",
    "        **Initiative:** Stellt auch gerne Rückfragen (z.B. „Kennt ihr das auch?“, „Würde euch das interessieren?“), reagiert aber auch auf Gegenargumente, indem er näher erklärt, warum das Buch lesenswert sei.\n",
    "    \"\"\"\n",
    ")\n",
    "\n",
    "kritiker = AssistantAgent(\n",
    "    \"kritiker\",\n",
    "    model_client=model_client,\n",
    "    handoffs=[\"leser\", \"suchender\"],\n",
    "    tools=[suche_bewertung],\n",
    "    system_message= system_message_template + \"\"\"\n",
    "        **Rolle:** Analyst und Verfechter von Qualität.\n",
    "        **Verhalten:** Prüft die Vorschläge kritisch, bringt ggf. eigene Erfahrungen ein, stellt starke oder schwache Argumente fest.\n",
    "        **Dynamik:** Erwartung ist, dass er Rückfragen stellt („Was ist das Besondere an diesem Buch?“), Alternativen einwirft oder Schwächen aufdeckt („Das Thema ist mir zu nischig“, „Ich fand den Schreibstil anstrengend“). Wenn überzeugt, kann er dem Vorschlag auch zustimmen.\n",
    "    \"\"\"\n",
    ")\n",
    "\n",
    "suchender = AssistantAgent(\n",
    "    \"suchender\",\n",
    "    model_client=model_client,\n",
    "    handoffs=[\"leser\", \"kritiker\"],\n",
    "    system_message= system_message_template + \"\"\"\n",
    "       **Rolle:** Der Neugierige und Vergleichende.\n",
    "       **Verhalten:** Sucht aktiv nach weiteren Optionen, bringt ggf. ähnliche oder kontrastierende Buchtitel ein.\n",
    "       **Interaktion:** Fordert Diskussionspartner zu Vergleichen heraus („Findet ihr Buch A oder B spannender?“). Kann vermittelnd sein oder gezielt die Diskussion offen halten („Wir könnten auch aus dem Genre X etwas nehmen – was meint ihr dazu?“).\n",
    "    \"\"\"\n",
    ")\n"
   ]
  },
  {
   "cell_type": "markdown",
   "metadata": {},
   "source": [
    "### Abbruchbedingung "
   ]
  },
  {
   "cell_type": "code",
   "execution_count": 43,
   "metadata": {},
   "outputs": [],
   "source": [
    "termination = HandoffTermination(target=\"user\") | TextMentionTermination(\"FERTIG\")"
   ]
  },
  {
   "cell_type": "markdown",
   "metadata": {},
   "source": [
    "### Erstellung des Teams & Start der Diskussion"
   ]
  },
  {
   "cell_type": "code",
   "execution_count": 44,
   "metadata": {},
   "outputs": [],
   "source": [
    "team = Swarm([leser, kritiker, suchender], termination_condition=termination)"
   ]
  },
  {
   "cell_type": "code",
   "execution_count": null,
   "metadata": {},
   "outputs": [],
   "source": [
    "task = \"\"\"\n",
    "    Sucht ein Buch, das in diesem Buchclub als nächstes gelesen werden soll.\n",
    "    Arbeitet darauf hin, dass ihr euch.\n",
    "\"\"\"\n",
    "\n",
    "async def run_team_stream() -> None:\n",
    "    task_result = await Console(team.run_stream(task=task))\n",
    "    last_message = task_result.messages[-1]\n",
    "\n",
    "    while isinstance(last_message, HandoffMessage) and last_message.target == \"user\":\n",
    "        user_message = input(\"User: \")\n",
    "\n",
    "        task_result = await Console(\n",
    "            team.run_stream(task=HandoffMessage(source=\"user\", target=last_message.source, content=user_message))\n",
    "        )\n",
    "        last_message = task_result.messages[-1]\n",
    "\n",
    "await run_team_stream()\n",
    "await model_client.close()"
   ]
  }
 ],
 "metadata": {
  "kernelspec": {
   "display_name": "base",
   "language": "python",
   "name": "python3"
  },
  "language_info": {
   "codemirror_mode": {
    "name": "ipython",
    "version": 3
   },
   "file_extension": ".py",
   "mimetype": "text/x-python",
   "name": "python",
   "nbconvert_exporter": "python",
   "pygments_lexer": "ipython3",
   "version": "3.13.2"
  }
 },
 "nbformat": 4,
 "nbformat_minor": 2
}
