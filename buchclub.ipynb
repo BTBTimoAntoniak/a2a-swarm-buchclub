{
 "cells": [
  {
   "cell_type": "code",
   "execution_count": null,
   "metadata": {},
   "outputs": [],
   "source": [
    "%pip install -r requirements.txt"
   ]
  },
  {
   "cell_type": "markdown",
   "metadata": {},
   "source": [
    "### Überblick\n",
    "In diesem Projekt simulieren mehrere KI-Agenäten einen lebendigen Buchclub. Sie diskutieren, welches Buch als nächstes gemeinsam gelesen werden soll. Jeder Agent bringt eigene Perspektiven ein, reagiert auf die Argumente der anderen und beteiligt sich aktiv an der Entscheidungsfindung. Ziel ist es, einen diskursiven, dynamischen Gesprächsverlauf zu ermöglichen – ganz wie unter echten Menschen"
   ]
  },
  {
   "cell_type": "code",
   "execution_count": null,
   "metadata": {},
   "outputs": [],
   "source": []
  }
 ],
 "metadata": {
  "kernelspec": {
   "display_name": "base",
   "language": "python",
   "name": "python3"
  },
  "language_info": {
   "name": "python",
   "version": "3.13.2"
  }
 },
 "nbformat": 4,
 "nbformat_minor": 2
}
