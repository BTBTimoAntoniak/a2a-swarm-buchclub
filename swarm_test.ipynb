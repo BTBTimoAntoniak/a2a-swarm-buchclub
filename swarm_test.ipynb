{
 "cells": [
  {
   "cell_type": "code",
   "execution_count": 1,
   "metadata": {},
   "outputs": [
    {
     "name": "stdout",
     "output_type": "stream",
     "text": [
      "Collecting python-dotenv>=1.0.0 (from -r requirements.txt (line 1))\n",
      "  Downloading python_dotenv-1.1.0-py3-none-any.whl.metadata (24 kB)\n",
      "Requirement already satisfied: autogen-agentchat in c:\\users\\timoantoniak\\miniconda3\\lib\\site-packages (from -r requirements.txt (line 2)) (0.6.1)\n",
      "Requirement already satisfied: autogen-ext in c:\\users\\timoantoniak\\miniconda3\\lib\\site-packages (from -r requirements.txt (line 3)) (0.6.1)\n",
      "Requirement already satisfied: autogen-core==0.6.1 in c:\\users\\timoantoniak\\miniconda3\\lib\\site-packages (from autogen-agentchat->-r requirements.txt (line 2)) (0.6.1)\n",
      "Requirement already satisfied: jsonref~=1.1.0 in c:\\users\\timoantoniak\\miniconda3\\lib\\site-packages (from autogen-core==0.6.1->autogen-agentchat->-r requirements.txt (line 2)) (1.1.0)\n",
      "Requirement already satisfied: opentelemetry-api>=1.27.0 in c:\\users\\timoantoniak\\miniconda3\\lib\\site-packages (from autogen-core==0.6.1->autogen-agentchat->-r requirements.txt (line 2)) (1.34.1)\n",
      "Requirement already satisfied: pillow>=11.0.0 in c:\\users\\timoantoniak\\miniconda3\\lib\\site-packages (from autogen-core==0.6.1->autogen-agentchat->-r requirements.txt (line 2)) (11.2.1)\n",
      "Requirement already satisfied: protobuf~=5.29.3 in c:\\users\\timoantoniak\\miniconda3\\lib\\site-packages (from autogen-core==0.6.1->autogen-agentchat->-r requirements.txt (line 2)) (5.29.5)\n",
      "Requirement already satisfied: pydantic<3.0.0,>=2.10.0 in c:\\users\\timoantoniak\\miniconda3\\lib\\site-packages (from autogen-core==0.6.1->autogen-agentchat->-r requirements.txt (line 2)) (2.10.3)\n",
      "Requirement already satisfied: typing-extensions>=4.0.0 in c:\\users\\timoantoniak\\miniconda3\\lib\\site-packages (from autogen-core==0.6.1->autogen-agentchat->-r requirements.txt (line 2)) (4.12.2)\n",
      "Requirement already satisfied: importlib-metadata<8.8.0,>=6.0 in c:\\users\\timoantoniak\\miniconda3\\lib\\site-packages (from opentelemetry-api>=1.27.0->autogen-core==0.6.1->autogen-agentchat->-r requirements.txt (line 2)) (8.7.0)\n",
      "Requirement already satisfied: annotated-types>=0.6.0 in c:\\users\\timoantoniak\\miniconda3\\lib\\site-packages (from pydantic<3.0.0,>=2.10.0->autogen-core==0.6.1->autogen-agentchat->-r requirements.txt (line 2)) (0.6.0)\n",
      "Requirement already satisfied: pydantic-core==2.27.1 in c:\\users\\timoantoniak\\miniconda3\\lib\\site-packages (from pydantic<3.0.0,>=2.10.0->autogen-core==0.6.1->autogen-agentchat->-r requirements.txt (line 2)) (2.27.1)\n",
      "Requirement already satisfied: zipp>=3.20 in c:\\users\\timoantoniak\\miniconda3\\lib\\site-packages (from importlib-metadata<8.8.0,>=6.0->opentelemetry-api>=1.27.0->autogen-core==0.6.1->autogen-agentchat->-r requirements.txt (line 2)) (3.23.0)\n",
      "Downloading python_dotenv-1.1.0-py3-none-any.whl (20 kB)\n",
      "Installing collected packages: python-dotenv\n",
      "Successfully installed python-dotenv-1.1.0\n",
      "Note: you may need to restart the kernel to use updated packages.\n"
     ]
    }
   ],
   "source": [
    "%pip install -r requirements.txt"
   ]
  },
  {
   "cell_type": "code",
   "execution_count": 11,
   "metadata": {},
   "outputs": [],
   "source": [
    "from typing import Any, Dict, List\n",
    "import os\n",
    "from dotenv import load_dotenv\n",
    "load_dotenv()\n",
    "\n",
    "\n",
    "from autogen_agentchat.agents import AssistantAgent\n",
    "from autogen_agentchat.conditions import HandoffTermination, TextMentionTermination\n",
    "from autogen_agentchat.messages import HandoffMessage\n",
    "from autogen_agentchat.teams import Swarm\n",
    "from autogen_agentchat.ui import Console\n",
    "from autogen_ext.models.openai import OpenAIChatCompletionClient"
   ]
  },
  {
   "cell_type": "markdown",
   "metadata": {},
   "source": [
    "### Tools"
   ]
  },
  {
   "cell_type": "code",
   "execution_count": 3,
   "metadata": {},
   "outputs": [],
   "source": [
    "def refund_flight(flight_id: str) -> str:\n",
    "    \"\"\"Refund a flight\"\"\"\n",
    "    return f\"Flight {flight_id} refunded\""
   ]
  },
  {
   "cell_type": "markdown",
   "metadata": {},
   "source": [
    "### Agents"
   ]
  },
  {
   "cell_type": "code",
   "execution_count": null,
   "metadata": {},
   "outputs": [],
   "source": [
    "model_client = OpenAIChatCompletionClient(\n",
    "    model=\"gpt-4o\",\n",
    "    api_key=os.getenv(\"OPENAI_API_KEY\"),\n",
    ")\n",
    "\n",
    "travel_agent = AssistantAgent(\n",
    "    \"travel_agent\",\n",
    "    model_client=model_client,\n",
    "    handoffs=[\"flights_refunder\", \"user\"],\n",
    "    system_message=\"\"\"\n",
    "        You are a travel agent.\n",
    "        The flights_refunder is in charge of refunding flights.\n",
    "        If you need information from the user, you must first send your message, then you can handoff to the user.\n",
    "        Use TERMINATE when the travel planning is complete.\n",
    "    \"\"\",\n",
    ")\n",
    "\n",
    "flights_refunder = AssistantAgent(\n",
    "    \"flights_refunder\",\n",
    "    model_client=model_client,\n",
    "    handoffs=[\"travel_agent\", \"user\"],\n",
    "    tools=[refund_flight],\n",
    "    system_message=\"\"\"\n",
    "        You are an agent specialized in refunding flights.\n",
    "        You only need flight reference numbers to refund a flight.\n",
    "        You have the ability to refund a flight using the refund_flight tool.\n",
    "        If you need information from the user, you must first send your message, then you can handoff to the user.\n",
    "        When the transaction is complete, handoff to the travel agent to finalize.\n",
    "    \"\"\",\n",
    ")"
   ]
  },
  {
   "cell_type": "code",
   "execution_count": 13,
   "metadata": {},
   "outputs": [],
   "source": [
    "termination = HandoffTermination(target=\"user\") | TextMentionTermination(\"TERMINATE\")\n",
    "team = Swarm([travel_agent, flights_refunder], termination_condition=termination)"
   ]
  },
  {
   "cell_type": "code",
   "execution_count": 14,
   "metadata": {},
   "outputs": [
    {
     "name": "stdout",
     "output_type": "stream",
     "text": [
      "---------- TextMessage (user) ----------\n",
      "I need to refund my flight.\n",
      "---------- ToolCallRequestEvent (travel_agent) ----------\n",
      "[FunctionCall(id='call_VWljRbKth0E0V9h1btkx92jn', arguments='{}', name='transfer_to_flights_refunder')]\n",
      "---------- ToolCallExecutionEvent (travel_agent) ----------\n",
      "[FunctionExecutionResult(content='Transferred to flights_refunder, adopting the role of flights_refunder immediately.', name='transfer_to_flights_refunder', call_id='call_VWljRbKth0E0V9h1btkx92jn', is_error=False)]\n",
      "---------- HandoffMessage (travel_agent) ----------\n",
      "Transferred to flights_refunder, adopting the role of flights_refunder immediately.\n",
      "---------- TextMessage (flights_refunder) ----------\n",
      "I can help you with that. Could you please provide me with your flight reference number?\n",
      "---------- ToolCallRequestEvent (flights_refunder) ----------\n",
      "[FunctionCall(id='call_wVt8Zf82CozU35tITSCvLDoi', arguments='{}', name='transfer_to_user')]\n",
      "---------- ToolCallExecutionEvent (flights_refunder) ----------\n",
      "[FunctionExecutionResult(content='Transferred to user, adopting the role of user immediately.', name='transfer_to_user', call_id='call_wVt8Zf82CozU35tITSCvLDoi', is_error=False)]\n",
      "---------- HandoffMessage (flights_refunder) ----------\n",
      "Transferred to user, adopting the role of user immediately.\n",
      "---------- HandoffMessage (user) ----------\n",
      "ABC123\n",
      "---------- ToolCallRequestEvent (flights_refunder) ----------\n",
      "[FunctionCall(id='call_Mu3TeH6fDMZ0DbBwOioS0clI', arguments='{\"flight_id\":\"ABC123\"}', name='refund_flight')]\n",
      "---------- ToolCallExecutionEvent (flights_refunder) ----------\n",
      "[FunctionExecutionResult(content='Flight ABC123 refunded', name='refund_flight', call_id='call_Mu3TeH6fDMZ0DbBwOioS0clI', is_error=False)]\n",
      "---------- ToolCallSummaryMessage (flights_refunder) ----------\n",
      "Flight ABC123 refunded\n",
      "---------- ToolCallRequestEvent (flights_refunder) ----------\n",
      "[FunctionCall(id='call_NHwl3oG0jnLiRkGTSIgURnQ5', arguments='{}', name='transfer_to_travel_agent')]\n",
      "---------- ToolCallExecutionEvent (flights_refunder) ----------\n",
      "[FunctionExecutionResult(content='Transferred to travel_agent, adopting the role of travel_agent immediately.', name='transfer_to_travel_agent', call_id='call_NHwl3oG0jnLiRkGTSIgURnQ5', is_error=False)]\n",
      "---------- HandoffMessage (flights_refunder) ----------\n",
      "Transferred to travel_agent, adopting the role of travel_agent immediately.\n",
      "---------- TextMessage (travel_agent) ----------\n",
      "Your flight refund has been successfully processed. If there's anything else you need help with, feel free to let me know. Safe travels! TERMINATE\n"
     ]
    }
   ],
   "source": [
    "task = \"I need to refund my flight.\"\n",
    "\n",
    "\n",
    "async def run_team_stream() -> None:\n",
    "    task_result = await Console(team.run_stream(task=task))\n",
    "    last_message = task_result.messages[-1]\n",
    "\n",
    "    while isinstance(last_message, HandoffMessage) and last_message.target == \"user\":\n",
    "        user_message = input(\"User: \")\n",
    "\n",
    "        task_result = await Console(\n",
    "            team.run_stream(task=HandoffMessage(source=\"user\", target=last_message.source, content=user_message))\n",
    "        )\n",
    "        last_message = task_result.messages[-1]\n",
    "\n",
    "\n",
    "# Use asyncio.run(...) if you are running this in a script.\n",
    "await run_team_stream()\n",
    "await model_client.close()"
   ]
  }
 ],
 "metadata": {
  "kernelspec": {
   "display_name": "base",
   "language": "python",
   "name": "python3"
  },
  "language_info": {
   "codemirror_mode": {
    "name": "ipython",
    "version": 3
   },
   "file_extension": ".py",
   "mimetype": "text/x-python",
   "name": "python",
   "nbconvert_exporter": "python",
   "pygments_lexer": "ipython3",
   "version": "3.13.2"
  }
 },
 "nbformat": 4,
 "nbformat_minor": 2
}
