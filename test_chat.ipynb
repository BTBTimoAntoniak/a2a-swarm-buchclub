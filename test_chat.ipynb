{
 "cells": [
  {
   "cell_type": "code",
   "execution_count": null,
   "metadata": {},
   "outputs": [],
   "source": [
    "%pip install -r requirements.txt"
   ]
  },
  {
   "cell_type": "code",
   "execution_count": 2,
   "metadata": {},
   "outputs": [
    {
     "name": "stdout",
     "output_type": "stream",
     "text": [
      "Requirement already satisfied: autogen-agentchat in c:\\users\\timoantoniak\\miniconda3\\lib\\site-packages (0.6.1)\n",
      "Requirement already satisfied: autogen-core==0.6.1 in c:\\users\\timoantoniak\\miniconda3\\lib\\site-packages (from autogen-agentchat) (0.6.1)\n",
      "Requirement already satisfied: jsonref~=1.1.0 in c:\\users\\timoantoniak\\miniconda3\\lib\\site-packages (from autogen-core==0.6.1->autogen-agentchat) (1.1.0)\n",
      "Requirement already satisfied: opentelemetry-api>=1.27.0 in c:\\users\\timoantoniak\\miniconda3\\lib\\site-packages (from autogen-core==0.6.1->autogen-agentchat) (1.34.1)\n",
      "Requirement already satisfied: pillow>=11.0.0 in c:\\users\\timoantoniak\\miniconda3\\lib\\site-packages (from autogen-core==0.6.1->autogen-agentchat) (11.2.1)\n",
      "Requirement already satisfied: protobuf~=5.29.3 in c:\\users\\timoantoniak\\miniconda3\\lib\\site-packages (from autogen-core==0.6.1->autogen-agentchat) (5.29.5)\n",
      "Requirement already satisfied: pydantic<3.0.0,>=2.10.0 in c:\\users\\timoantoniak\\miniconda3\\lib\\site-packages (from autogen-core==0.6.1->autogen-agentchat) (2.10.3)\n",
      "Requirement already satisfied: typing-extensions>=4.0.0 in c:\\users\\timoantoniak\\miniconda3\\lib\\site-packages (from autogen-core==0.6.1->autogen-agentchat) (4.12.2)\n",
      "Requirement already satisfied: importlib-metadata<8.8.0,>=6.0 in c:\\users\\timoantoniak\\miniconda3\\lib\\site-packages (from opentelemetry-api>=1.27.0->autogen-core==0.6.1->autogen-agentchat) (8.7.0)\n",
      "Requirement already satisfied: annotated-types>=0.6.0 in c:\\users\\timoantoniak\\miniconda3\\lib\\site-packages (from pydantic<3.0.0,>=2.10.0->autogen-core==0.6.1->autogen-agentchat) (0.6.0)\n",
      "Requirement already satisfied: pydantic-core==2.27.1 in c:\\users\\timoantoniak\\miniconda3\\lib\\site-packages (from pydantic<3.0.0,>=2.10.0->autogen-core==0.6.1->autogen-agentchat) (2.27.1)\n",
      "Requirement already satisfied: zipp>=3.20 in c:\\users\\timoantoniak\\miniconda3\\lib\\site-packages (from importlib-metadata<8.8.0,>=6.0->opentelemetry-api>=1.27.0->autogen-core==0.6.1->autogen-agentchat) (3.23.0)\n",
      "Note: you may need to restart the kernel to use updated packages.\n",
      "Requirement already satisfied: autogen-ext[openai] in c:\\users\\timoantoniak\\miniconda3\\lib\\site-packages (0.6.1)\n",
      "Requirement already satisfied: autogen-core==0.6.1 in c:\\users\\timoantoniak\\miniconda3\\lib\\site-packages (from autogen-ext[openai]) (0.6.1)\n",
      "Requirement already satisfied: aiofiles in c:\\users\\timoantoniak\\miniconda3\\lib\\site-packages (from autogen-ext[openai]) (24.1.0)\n",
      "Requirement already satisfied: openai>=1.66.5 in c:\\users\\timoantoniak\\miniconda3\\lib\\site-packages (from autogen-ext[openai]) (1.88.0)\n",
      "Requirement already satisfied: tiktoken>=0.8.0 in c:\\users\\timoantoniak\\miniconda3\\lib\\site-packages (from autogen-ext[openai]) (0.9.0)\n",
      "Requirement already satisfied: jsonref~=1.1.0 in c:\\users\\timoantoniak\\miniconda3\\lib\\site-packages (from autogen-core==0.6.1->autogen-ext[openai]) (1.1.0)\n",
      "Requirement already satisfied: opentelemetry-api>=1.27.0 in c:\\users\\timoantoniak\\miniconda3\\lib\\site-packages (from autogen-core==0.6.1->autogen-ext[openai]) (1.34.1)\n",
      "Requirement already satisfied: pillow>=11.0.0 in c:\\users\\timoantoniak\\miniconda3\\lib\\site-packages (from autogen-core==0.6.1->autogen-ext[openai]) (11.2.1)\n",
      "Requirement already satisfied: protobuf~=5.29.3 in c:\\users\\timoantoniak\\miniconda3\\lib\\site-packages (from autogen-core==0.6.1->autogen-ext[openai]) (5.29.5)\n",
      "Requirement already satisfied: pydantic<3.0.0,>=2.10.0 in c:\\users\\timoantoniak\\miniconda3\\lib\\site-packages (from autogen-core==0.6.1->autogen-ext[openai]) (2.10.3)\n",
      "Requirement already satisfied: typing-extensions>=4.0.0 in c:\\users\\timoantoniak\\miniconda3\\lib\\site-packages (from autogen-core==0.6.1->autogen-ext[openai]) (4.12.2)\n",
      "Requirement already satisfied: anyio<5,>=3.5.0 in c:\\users\\timoantoniak\\miniconda3\\lib\\site-packages (from openai>=1.66.5->autogen-ext[openai]) (4.9.0)\n",
      "Requirement already satisfied: distro<2,>=1.7.0 in c:\\users\\timoantoniak\\miniconda3\\lib\\site-packages (from openai>=1.66.5->autogen-ext[openai]) (1.9.0)\n",
      "Requirement already satisfied: httpx<1,>=0.23.0 in c:\\users\\timoantoniak\\miniconda3\\lib\\site-packages (from openai>=1.66.5->autogen-ext[openai]) (0.28.1)\n",
      "Requirement already satisfied: jiter<1,>=0.4.0 in c:\\users\\timoantoniak\\miniconda3\\lib\\site-packages (from openai>=1.66.5->autogen-ext[openai]) (0.10.0)\n",
      "Requirement already satisfied: sniffio in c:\\users\\timoantoniak\\miniconda3\\lib\\site-packages (from openai>=1.66.5->autogen-ext[openai]) (1.3.1)\n",
      "Requirement already satisfied: tqdm>4 in c:\\users\\timoantoniak\\miniconda3\\lib\\site-packages (from openai>=1.66.5->autogen-ext[openai]) (4.67.1)\n",
      "Requirement already satisfied: regex>=2022.1.18 in c:\\users\\timoantoniak\\miniconda3\\lib\\site-packages (from tiktoken>=0.8.0->autogen-ext[openai]) (2024.11.6)\n",
      "Requirement already satisfied: requests>=2.26.0 in c:\\users\\timoantoniak\\miniconda3\\lib\\site-packages (from tiktoken>=0.8.0->autogen-ext[openai]) (2.32.3)\n",
      "Requirement already satisfied: idna>=2.8 in c:\\users\\timoantoniak\\miniconda3\\lib\\site-packages (from anyio<5,>=3.5.0->openai>=1.66.5->autogen-ext[openai]) (3.7)\n",
      "Requirement already satisfied: certifi in c:\\users\\timoantoniak\\miniconda3\\lib\\site-packages (from httpx<1,>=0.23.0->openai>=1.66.5->autogen-ext[openai]) (2025.6.15)\n",
      "Requirement already satisfied: httpcore==1.* in c:\\users\\timoantoniak\\miniconda3\\lib\\site-packages (from httpx<1,>=0.23.0->openai>=1.66.5->autogen-ext[openai]) (1.0.9)\n",
      "Requirement already satisfied: h11>=0.16 in c:\\users\\timoantoniak\\miniconda3\\lib\\site-packages (from httpcore==1.*->httpx<1,>=0.23.0->openai>=1.66.5->autogen-ext[openai]) (0.16.0)\n",
      "Requirement already satisfied: importlib-metadata<8.8.0,>=6.0 in c:\\users\\timoantoniak\\miniconda3\\lib\\site-packages (from opentelemetry-api>=1.27.0->autogen-core==0.6.1->autogen-ext[openai]) (8.7.0)\n",
      "Requirement already satisfied: annotated-types>=0.6.0 in c:\\users\\timoantoniak\\miniconda3\\lib\\site-packages (from pydantic<3.0.0,>=2.10.0->autogen-core==0.6.1->autogen-ext[openai]) (0.6.0)\n",
      "Requirement already satisfied: pydantic-core==2.27.1 in c:\\users\\timoantoniak\\miniconda3\\lib\\site-packages (from pydantic<3.0.0,>=2.10.0->autogen-core==0.6.1->autogen-ext[openai]) (2.27.1)\n",
      "Requirement already satisfied: charset-normalizer<4,>=2 in c:\\users\\timoantoniak\\miniconda3\\lib\\site-packages (from requests>=2.26.0->tiktoken>=0.8.0->autogen-ext[openai]) (3.3.2)\n",
      "Requirement already satisfied: urllib3<3,>=1.21.1 in c:\\users\\timoantoniak\\miniconda3\\lib\\site-packages (from requests>=2.26.0->tiktoken>=0.8.0->autogen-ext[openai]) (2.3.0)\n",
      "Requirement already satisfied: colorama in c:\\users\\timoantoniak\\miniconda3\\lib\\site-packages (from tqdm>4->openai>=1.66.5->autogen-ext[openai]) (0.4.6)\n",
      "Requirement already satisfied: zipp>=3.20 in c:\\users\\timoantoniak\\miniconda3\\lib\\site-packages (from importlib-metadata<8.8.0,>=6.0->opentelemetry-api>=1.27.0->autogen-core==0.6.1->autogen-ext[openai]) (3.23.0)\n",
      "Note: you may need to restart the kernel to use updated packages.\n"
     ]
    }
   ],
   "source": [
    "from autogen_agentchat.agents import AssistantAgent\n",
    "from autogen_agentchat.ui import Console\n",
    "from autogen_ext.models.openai import OpenAIChatCompletionClient"
   ]
  },
  {
   "cell_type": "code",
   "execution_count": null,
   "metadata": {},
   "outputs": [],
   "source": [
    "model_client = OpenAIChatCompletionClient(\n",
    "    model=\"gpt-4o\",\n",
    "    api_key=os.getenv(\"OPENAI_API_KEY\"),\n",
    ")\n",
    "\n",
    "async def get_weather(city: str) -> str:\n",
    "    \"\"\"Get the weather for a given city.\"\"\"\n",
    "    return f\"{city}: 73 degrees and Sunny.\"\n",
    "\n",
    "\n",
    "# Define an AssistantAgent with the model, tool, system message, and reflection enabled.\n",
    "# The system message instructs the agent via natural language.\n",
    "agent = AssistantAgent(\n",
    "    name=\"weather_agent\",\n",
    "    model_client=model_client,\n",
    "    tools=[get_weather],\n",
    "    system_message=\"You are a helpful assistant.\",\n",
    "    reflect_on_tool_use=True,\n",
    "    model_client_stream=True,  # Enable streaming tokens from the model client.\n",
    ")"
   ]
  },
  {
   "cell_type": "code",
   "execution_count": 4,
   "metadata": {},
   "outputs": [
    {
     "name": "stdout",
     "output_type": "stream",
     "text": [
      "---------- TextMessage (user) ----------\n",
      "What is the weather in New York?\n",
      "---------- ToolCallRequestEvent (weather_agent) ----------\n",
      "[FunctionCall(id='call_UqxfmyDUHCAFuokMhvF2ZTw6', arguments='{\"city\":\"New York\"}', name='get_weather')]\n",
      "---------- ToolCallExecutionEvent (weather_agent) ----------\n",
      "[FunctionExecutionResult(content='New York: 73 degrees and Sunny.', name='get_weather', call_id='call_UqxfmyDUHCAFuokMhvF2ZTw6', is_error=False)]\n",
      "---------- ModelClientStreamingChunkEvent (weather_agent) ----------\n",
      "The current weather in New York is 73 degrees and sunny.\n"
     ]
    }
   ],
   "source": [
    "async def main() -> None:\n",
    "    await Console(agent.run_stream(task=\"What is the weather in New York?\"))\n",
    "    # Close the connection to the model client.\n",
    "    await model_client.close()\n",
    "\n",
    "\n",
    "# NOTE: if running this inside a Python script you'll need to use asyncio.run(main()).\n",
    "await main()"
   ]
  }
 ],
 "metadata": {
  "kernelspec": {
   "display_name": "base",
   "language": "python",
   "name": "python3"
  },
  "language_info": {
   "codemirror_mode": {
    "name": "ipython",
    "version": 3
   },
   "file_extension": ".py",
   "mimetype": "text/x-python",
   "name": "python",
   "nbconvert_exporter": "python",
   "pygments_lexer": "ipython3",
   "version": "3.13.2"
  }
 },
 "nbformat": 4,
 "nbformat_minor": 2
}
