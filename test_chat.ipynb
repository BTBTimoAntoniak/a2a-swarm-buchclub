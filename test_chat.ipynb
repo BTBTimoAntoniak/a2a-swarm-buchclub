{
 "cells": [
  {
   "cell_type": "code",
   "execution_count": 2,
   "metadata": {},
   "outputs": [
    {
     "name": "stdout",
     "output_type": "stream",
     "text": [
      "Requirement already satisfied: python-dotenv>=1.0.0 in c:\\users\\timoantoniak\\miniconda3\\lib\\site-packages (from -r requirements.txt (line 1)) (1.1.0)\n",
      "Requirement already satisfied: autogen-agentchat in c:\\users\\timoantoniak\\miniconda3\\lib\\site-packages (from -r requirements.txt (line 2)) (0.6.1)\n",
      "Requirement already satisfied: autogen-ext in c:\\users\\timoantoniak\\miniconda3\\lib\\site-packages (from -r requirements.txt (line 3)) (0.6.1)\n",
      "Requirement already satisfied: autogen-core==0.6.1 in c:\\users\\timoantoniak\\miniconda3\\lib\\site-packages (from autogen-agentchat->-r requirements.txt (line 2)) (0.6.1)\n",
      "Requirement already satisfied: jsonref~=1.1.0 in c:\\users\\timoantoniak\\miniconda3\\lib\\site-packages (from autogen-core==0.6.1->autogen-agentchat->-r requirements.txt (line 2)) (1.1.0)\n",
      "Requirement already satisfied: opentelemetry-api>=1.27.0 in c:\\users\\timoantoniak\\miniconda3\\lib\\site-packages (from autogen-core==0.6.1->autogen-agentchat->-r requirements.txt (line 2)) (1.34.1)\n",
      "Requirement already satisfied: pillow>=11.0.0 in c:\\users\\timoantoniak\\miniconda3\\lib\\site-packages (from autogen-core==0.6.1->autogen-agentchat->-r requirements.txt (line 2)) (11.2.1)\n",
      "Requirement already satisfied: protobuf~=5.29.3 in c:\\users\\timoantoniak\\miniconda3\\lib\\site-packages (from autogen-core==0.6.1->autogen-agentchat->-r requirements.txt (line 2)) (5.29.5)\n",
      "Requirement already satisfied: pydantic<3.0.0,>=2.10.0 in c:\\users\\timoantoniak\\miniconda3\\lib\\site-packages (from autogen-core==0.6.1->autogen-agentchat->-r requirements.txt (line 2)) (2.10.3)\n",
      "Requirement already satisfied: typing-extensions>=4.0.0 in c:\\users\\timoantoniak\\miniconda3\\lib\\site-packages (from autogen-core==0.6.1->autogen-agentchat->-r requirements.txt (line 2)) (4.12.2)\n",
      "Requirement already satisfied: importlib-metadata<8.8.0,>=6.0 in c:\\users\\timoantoniak\\miniconda3\\lib\\site-packages (from opentelemetry-api>=1.27.0->autogen-core==0.6.1->autogen-agentchat->-r requirements.txt (line 2)) (8.7.0)\n",
      "Requirement already satisfied: annotated-types>=0.6.0 in c:\\users\\timoantoniak\\miniconda3\\lib\\site-packages (from pydantic<3.0.0,>=2.10.0->autogen-core==0.6.1->autogen-agentchat->-r requirements.txt (line 2)) (0.6.0)\n",
      "Requirement already satisfied: pydantic-core==2.27.1 in c:\\users\\timoantoniak\\miniconda3\\lib\\site-packages (from pydantic<3.0.0,>=2.10.0->autogen-core==0.6.1->autogen-agentchat->-r requirements.txt (line 2)) (2.27.1)\n",
      "Requirement already satisfied: zipp>=3.20 in c:\\users\\timoantoniak\\miniconda3\\lib\\site-packages (from importlib-metadata<8.8.0,>=6.0->opentelemetry-api>=1.27.0->autogen-core==0.6.1->autogen-agentchat->-r requirements.txt (line 2)) (3.23.0)\n",
      "Note: you may need to restart the kernel to use updated packages.\n"
     ]
    }
   ],
   "source": [
    "%pip install -r requirements.txt"
   ]
  },
  {
   "cell_type": "code",
   "execution_count": 3,
   "metadata": {},
   "outputs": [],
   "source": [
    "from autogen_agentchat.agents import AssistantAgent\n",
    "from autogen_agentchat.ui import Console\n",
    "from autogen_ext.models.openai import OpenAIChatCompletionClient"
   ]
  },
  {
   "cell_type": "code",
   "execution_count": 4,
   "metadata": {},
   "outputs": [],
   "source": [
    "import os\n",
    "from dotenv import load_dotenv\n",
    "load_dotenv()\n",
    "\n",
    "model_client = OpenAIChatCompletionClient(\n",
    "    model=\"gpt-4o\",\n",
    "    api_key=os.getenv(\"OPENAI_API_KEY\"),\n",
    ")\n",
    "\n",
    "async def get_weather(city: str) -> str:\n",
    "    \"\"\"Get the weather for a given city.\"\"\"\n",
    "    return f\"{city}: 73 degrees and Sunny.\"\n",
    "\n",
    "\n",
    "# Define an AssistantAgent with the model, tool, system message, and reflection enabled.\n",
    "# The system message instructs the agent via natural language.\n",
    "agent = AssistantAgent(\n",
    "    name=\"weather_agent\",\n",
    "    model_client=model_client,\n",
    "    tools=[get_weather],\n",
    "    system_message=\"You are a helpful assistant.\",\n",
    "    reflect_on_tool_use=True,\n",
    "    model_client_stream=True,  # Enable streaming tokens from the model client.\n",
    ")"
   ]
  },
  {
   "cell_type": "code",
   "execution_count": 5,
   "metadata": {},
   "outputs": [
    {
     "name": "stdout",
     "output_type": "stream",
     "text": [
      "---------- TextMessage (user) ----------\n",
      "What is the weather in New York?\n",
      "---------- ToolCallRequestEvent (weather_agent) ----------\n",
      "[FunctionCall(id='call_qQe2fEsflrke4tNRzEmx3FEq', arguments='{\"city\":\"New York\"}', name='get_weather')]\n",
      "---------- ToolCallExecutionEvent (weather_agent) ----------\n",
      "[FunctionExecutionResult(content='New York: 73 degrees and Sunny.', name='get_weather', call_id='call_qQe2fEsflrke4tNRzEmx3FEq', is_error=False)]\n",
      "---------- ModelClientStreamingChunkEvent (weather_agent) ----------\n",
      "The current weather in New York is 73 degrees and sunny.\n"
     ]
    }
   ],
   "source": [
    "async def main() -> None:\n",
    "    await Console(agent.run_stream(task=\"What is the weather in New York?\"))\n",
    "    # Close the connection to the model client.\n",
    "    await model_client.close()\n",
    "\n",
    "\n",
    "# NOTE: if running this inside a Python script you'll need to use asyncio.run(main()).\n",
    "await main()"
   ]
  }
 ],
 "metadata": {
  "kernelspec": {
   "display_name": "base",
   "language": "python",
   "name": "python3"
  },
  "language_info": {
   "codemirror_mode": {
    "name": "ipython",
    "version": 3
   },
   "file_extension": ".py",
   "mimetype": "text/x-python",
   "name": "python",
   "nbconvert_exporter": "python",
   "pygments_lexer": "ipython3",
   "version": "3.13.2"
  }
 },
 "nbformat": 4,
 "nbformat_minor": 2
}
